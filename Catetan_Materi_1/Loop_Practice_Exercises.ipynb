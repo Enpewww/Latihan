{
 "cells": [
  {
   "cell_type": "code",
   "execution_count": 37,
   "id": "fe4c8898",
   "metadata": {},
   "outputs": [
    {
     "name": "stdout",
     "output_type": "stream",
     "text": [
      "not even\n",
      "not even\n",
      "not even\n"
     ]
    },
    {
     "data": {
      "text/plain": [
       "294"
      ]
     },
     "execution_count": 37,
     "metadata": {},
     "output_type": "execute_result"
    }
   ],
   "source": [
    "# 1. Sum of Even Numbers in a List\n",
    "def sum_even(numbers):\n",
    "    sum = 0\n",
    "    for number in numbers:\n",
    "        if number % 2 == 0:\n",
    "            sum+=number\n",
    "        else:\n",
    "            print(\"not even\")\n",
    "    return sum\n",
    " \n",
    "sum_even([1,2,88,44,35,23,22,68,70])"
   ]
  },
  {
   "cell_type": "code",
   "execution_count": 42,
   "id": "4a8481b1",
   "metadata": {},
   "outputs": [
    {
     "data": {
      "text/plain": [
       "1"
      ]
     },
     "execution_count": 42,
     "metadata": {},
     "output_type": "execute_result"
    }
   ],
   "source": [
    "# 2. Count Specific Word in List\n",
    "def count_python(words):\n",
    "    count = 0\n",
    "    for word in words:\n",
    "        if word.isalpha():\n",
    "            count+=1\n",
    "        else:\n",
    "            print('ga sama')\n",
    "    return count\n",
    "\n",
    "count_python([\"sanjaya\"])\n"
   ]
  },
  {
   "cell_type": "code",
   "execution_count": 63,
   "id": "9693b062",
   "metadata": {},
   "outputs": [
    {
     "name": "stdout",
     "output_type": "stream",
     "text": [
      "Word frequencies: {'the': 3, 'quick': 2, 'brown': 1, 'fox': 2, 'jumps': 1, 'over': 1, 'lazy': 1, 'dog': 1, 'is': 1}\n"
     ]
    }
   ],
   "source": [
    "def word_frequency(sentence):\n",
    "    words = sentence.split(\" \")\n",
    "    frequencies = {}\n",
    "    for word in words:\n",
    "        if word in frequencies:\n",
    "            frequencies[word] += 1\n",
    "        else:\n",
    "            frequencies[word] = 1\n",
    "    return frequencies\n",
    "\n",
    "word_frequency(sentence = \"the quick brown fox jumps over the lazy dog the fox is quick\")\n",
    "print(\"Word frequencies:\", word_frequency(sentence))"
   ]
  },
  {
   "cell_type": "code",
   "execution_count": 58,
   "id": "207dc6df",
   "metadata": {},
   "outputs": [
    {
     "name": "stdout",
     "output_type": "stream",
     "text": [
      "Word frequencies: {'t': 3, 'h': 3, 'e': 4, ' ': 12, 'q': 2, 'u': 3, 'i': 3, 'c': 2, 'k': 2, 'b': 1, 'r': 2, 'o': 5, 'w': 1, 'n': 1, 'f': 2, 'x': 2, 'j': 1, 'm': 1, 'p': 1, 's': 2, 'v': 1, 'l': 1, 'a': 1, 'z': 1, 'y': 1, 'd': 1, 'g': 1}\n"
     ]
    }
   ],
   "source": [
    "# Kalo fornya 2 kali baru dia per huruf ngitungnya \n",
    "def word_frequency(sentence):\n",
    "    words = sentence.split(\" \")\n",
    "    frequencies = {}\n",
    "    for words in sentence:\n",
    "        for word in words:\n",
    "            if word in frequencies:\n",
    "                frequencies[word] += 1\n",
    "            else:\n",
    "                frequencies[word] = 1\n",
    "    return frequencies\n",
    "\n",
    "word_frequency(sentence = \"the quick brown fox jumps over the lazy dog the fox is quick\")\n",
    "print(\"Word frequencies:\", word_frequency(sentence =  \"the quick brown fox jumps over the lazy dog the fox is quick\"))"
   ]
  },
  {
   "cell_type": "code",
   "execution_count": 59,
   "id": "8c64db9c",
   "metadata": {},
   "outputs": [
    {
     "name": "stdout",
     "output_type": "stream",
     "text": [
      "['the', 'quick', 'brown', 'fox', 'jumps', 'over', 'the', 'lazy', 'dog', 'the', 'fox', 'is', 'quick']\n"
     ]
    }
   ],
   "source": [
    "sentence = \"the quick brown fox jumps over the lazy dog the fox is quick\"\n",
    "\n",
    "words = sentence.split(\" \")\n",
    "\n",
    "print(words)"
   ]
  }
 ],
 "metadata": {
  "kernelspec": {
   "display_name": "base",
   "language": "python",
   "name": "python3"
  },
  "language_info": {
   "codemirror_mode": {
    "name": "ipython",
    "version": 3
   },
   "file_extension": ".py",
   "mimetype": "text/x-python",
   "name": "python",
   "nbconvert_exporter": "python",
   "pygments_lexer": "ipython3",
   "version": "3.12.7"
  }
 },
 "nbformat": 4,
 "nbformat_minor": 5
}
