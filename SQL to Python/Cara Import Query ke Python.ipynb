{
 "cells": [
  {
   "cell_type": "code",
   "execution_count": 19,
   "id": "8ea3f849",
   "metadata": {},
   "outputs": [],
   "source": [
    "import psycopg2\n",
    "import pandas as pd"
   ]
  },
  {
   "cell_type": "code",
   "execution_count": 20,
   "id": "184adc4f",
   "metadata": {},
   "outputs": [],
   "source": [
    "# Replace these parameters with your actual database credentials\n",
    "db_user=\"postgres\"\n",
    "db_name = \"hck028\"\n",
    "db_password = \"postgres\" #Use your own password\n",
    "db_host = \"localhost\"  # Usually \"localhost\" if running locally\n",
    "db_port = \"5432\"  # Default is 5432\n",
    "\n"
   ]
  },
  {
   "cell_type": "code",
   "execution_count": 21,
   "id": "aa8a87c6",
   "metadata": {},
   "outputs": [],
   "source": [
    "connection = psycopg2.connect(\n",
    "    dbname=db_name,\n",
    "    user=db_user,\n",
    "    password=db_password,\n",
    "    host=db_host,\n",
    "    port=db_port\n",
    ")"
   ]
  },
  {
   "cell_type": "code",
   "execution_count": 22,
   "id": "1bcbb5cc",
   "metadata": {},
   "outputs": [],
   "source": [
    "cursor = connection.cursor() #membuat koneksi ke sql"
   ]
  },
  {
   "cell_type": "code",
   "execution_count": 23,
   "id": "0a252173",
   "metadata": {},
   "outputs": [
    {
     "name": "stdout",
     "output_type": "stream",
     "text": [
      "[('ACC', Decimal('607'), Decimal('341'), Decimal('356'), Decimal('259')), ('American Athletic', Decimal('418'), Decimal('247'), Decimal('241'), Decimal('218')), ('Big 12', Decimal('456'), Decimal('254'), Decimal('270'), Decimal('210')), ('Big Ten', Decimal('636'), Decimal('314'), Decimal('284'), Decimal('232')), ('Conference USA', Decimal('519'), Decimal('324'), Decimal('351'), Decimal('301')), ('FBS Independents', Decimal('279'), Decimal('186'), Decimal('191'), Decimal('171')), ('Mid-American', Decimal('551'), Decimal('276'), Decimal('236'), Decimal('329')), ('Mountain West', Decimal('338'), Decimal('201'), Decimal('221'), Decimal('183'))]\n"
     ]
    }
   ],
   "source": [
    "query = '''\n",
    "SELECT \n",
    "\tconference,\n",
    "       SUM(CASE WHEN year = 'FR' THEN total_player ELSE 0 END) fr,\n",
    "       SUM(CASE WHEN year = 'SO' THEN total_player ELSE 0 END) so,\n",
    "       SUM(CASE WHEN year = 'JR' THEN total_player ELSE 0 END) jr,\n",
    "       SUM(CASE WHEN year = 'SR' THEN total_player ELSE 0 END) sr\n",
    "FROM (\n",
    "\tSELECT\n",
    "\t\tt.conference,\n",
    "\t\tp.year,\n",
    "\t\tCOUNT(1) as total_player\n",
    "\tFROM \n",
    "\t\tplayers p\n",
    "\t\tJOIN teams t\n",
    "\t\tON p.school_name = t.school_name\n",
    "\tGROUP BY\n",
    "\t\t1, 2\n",
    "\tORDER BY\n",
    "\t\t1, 2\n",
    ") babs\n",
    "GROUP BY\n",
    "\t1 \n",
    "ORDER BY\n",
    "\t1\n",
    "'''\n",
    "cursor.execute(query)\n",
    "result = cursor.fetchall()\n",
    "print(result)"
   ]
  },
  {
   "cell_type": "code",
   "execution_count": 24,
   "id": "2cc647c1",
   "metadata": {},
   "outputs": [
    {
     "name": "stderr",
     "output_type": "stream",
     "text": [
      "/var/folders/02/c4wzpds97xv1jfyt22h304_r0000gn/T/ipykernel_24231/3233301777.py:1: UserWarning: pandas only supports SQLAlchemy connectable (engine/connection) or database string URI or sqlite3 DBAPI2 connection. Other DBAPI2 objects are not tested. Please consider using SQLAlchemy.\n",
      "  df = pd.read_sql_query(query, connection) # import query ke python through pandas\n"
     ]
    },
    {
     "data": {
      "text/html": [
       "<div>\n",
       "<style scoped>\n",
       "    .dataframe tbody tr th:only-of-type {\n",
       "        vertical-align: middle;\n",
       "    }\n",
       "\n",
       "    .dataframe tbody tr th {\n",
       "        vertical-align: top;\n",
       "    }\n",
       "\n",
       "    .dataframe thead th {\n",
       "        text-align: right;\n",
       "    }\n",
       "</style>\n",
       "<table border=\"1\" class=\"dataframe\">\n",
       "  <thead>\n",
       "    <tr style=\"text-align: right;\">\n",
       "      <th></th>\n",
       "      <th>conference</th>\n",
       "      <th>fr</th>\n",
       "      <th>so</th>\n",
       "      <th>jr</th>\n",
       "      <th>sr</th>\n",
       "    </tr>\n",
       "  </thead>\n",
       "  <tbody>\n",
       "    <tr>\n",
       "      <th>0</th>\n",
       "      <td>ACC</td>\n",
       "      <td>607.0</td>\n",
       "      <td>341.0</td>\n",
       "      <td>356.0</td>\n",
       "      <td>259.0</td>\n",
       "    </tr>\n",
       "    <tr>\n",
       "      <th>1</th>\n",
       "      <td>American Athletic</td>\n",
       "      <td>418.0</td>\n",
       "      <td>247.0</td>\n",
       "      <td>241.0</td>\n",
       "      <td>218.0</td>\n",
       "    </tr>\n",
       "    <tr>\n",
       "      <th>2</th>\n",
       "      <td>Big 12</td>\n",
       "      <td>456.0</td>\n",
       "      <td>254.0</td>\n",
       "      <td>270.0</td>\n",
       "      <td>210.0</td>\n",
       "    </tr>\n",
       "    <tr>\n",
       "      <th>3</th>\n",
       "      <td>Big Ten</td>\n",
       "      <td>636.0</td>\n",
       "      <td>314.0</td>\n",
       "      <td>284.0</td>\n",
       "      <td>232.0</td>\n",
       "    </tr>\n",
       "    <tr>\n",
       "      <th>4</th>\n",
       "      <td>Conference USA</td>\n",
       "      <td>519.0</td>\n",
       "      <td>324.0</td>\n",
       "      <td>351.0</td>\n",
       "      <td>301.0</td>\n",
       "    </tr>\n",
       "    <tr>\n",
       "      <th>5</th>\n",
       "      <td>FBS Independents</td>\n",
       "      <td>279.0</td>\n",
       "      <td>186.0</td>\n",
       "      <td>191.0</td>\n",
       "      <td>171.0</td>\n",
       "    </tr>\n",
       "    <tr>\n",
       "      <th>6</th>\n",
       "      <td>Mid-American</td>\n",
       "      <td>551.0</td>\n",
       "      <td>276.0</td>\n",
       "      <td>236.0</td>\n",
       "      <td>329.0</td>\n",
       "    </tr>\n",
       "    <tr>\n",
       "      <th>7</th>\n",
       "      <td>Mountain West</td>\n",
       "      <td>338.0</td>\n",
       "      <td>201.0</td>\n",
       "      <td>221.0</td>\n",
       "      <td>183.0</td>\n",
       "    </tr>\n",
       "  </tbody>\n",
       "</table>\n",
       "</div>"
      ],
      "text/plain": [
       "          conference     fr     so     jr     sr\n",
       "0                ACC  607.0  341.0  356.0  259.0\n",
       "1  American Athletic  418.0  247.0  241.0  218.0\n",
       "2             Big 12  456.0  254.0  270.0  210.0\n",
       "3            Big Ten  636.0  314.0  284.0  232.0\n",
       "4     Conference USA  519.0  324.0  351.0  301.0\n",
       "5   FBS Independents  279.0  186.0  191.0  171.0\n",
       "6       Mid-American  551.0  276.0  236.0  329.0\n",
       "7      Mountain West  338.0  201.0  221.0  183.0"
      ]
     },
     "execution_count": 24,
     "metadata": {},
     "output_type": "execute_result"
    }
   ],
   "source": [
    "df = pd.read_sql_query(query, connection) # import query ke python through pandas\n",
    "\n",
    "df"
   ]
  },
  {
   "cell_type": "code",
   "execution_count": 25,
   "id": "bf2ccc6a",
   "metadata": {},
   "outputs": [],
   "source": [
    "df.to_csv('pivot_result.csv', index=False)"
   ]
  },
  {
   "cell_type": "code",
   "execution_count": 27,
   "id": "45b6881a",
   "metadata": {},
   "outputs": [],
   "source": [
    "# Create new Table in Python\n",
    "\n",
    "q = '''\n",
    "    CREATE TABLE IF NOT EXISTS students (\n",
    "        id SERIAL PRIMARY KEY,\n",
    "        name VARCHAR(50),\n",
    "        age INTEGER,\n",
    "        campus_id INTEGER,\n",
    "        total_grade FLOAT\n",
    "        );\n",
    "    '''\n",
    "\n",
    "cursor.execute(q)\n",
    "connection.commit()"
   ]
  },
  {
   "cell_type": "code",
   "execution_count": 28,
   "id": "6802112f",
   "metadata": {},
   "outputs": [],
   "source": [
    "cursor.close()\n",
    "connection.close()"
   ]
  },
  {
   "cell_type": "code",
   "execution_count": null,
   "id": "5cc90e40",
   "metadata": {},
   "outputs": [],
   "source": []
  }
 ],
 "metadata": {
  "kernelspec": {
   "display_name": "base",
   "language": "python",
   "name": "python3"
  },
  "language_info": {
   "codemirror_mode": {
    "name": "ipython",
    "version": 3
   },
   "file_extension": ".py",
   "mimetype": "text/x-python",
   "name": "python",
   "nbconvert_exporter": "python",
   "pygments_lexer": "ipython3",
   "version": "3.12.7"
  }
 },
 "nbformat": 4,
 "nbformat_minor": 5
}
