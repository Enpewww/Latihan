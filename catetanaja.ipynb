{
 "cells": [
  {
   "cell_type": "markdown",
   "id": "ff65c3f2",
   "metadata": {},
   "source": [
    "# Week 1 Day 2\n",
    "\n",
    "python -> High Level programming language\n",
    "\n",
    "## Phyton Data Types\n",
    "- Text\n",
    "-- string\n",
    "- Numeric\n",
    "-- integer\n",
    "-- float\n",
    "-- complex\n",
    "- Sequence\n",
    "-- list\n",
    "-- tuple\n",
    "-- range\n",
    "- Mapping\n",
    "-- dictionary\n",
    "- Set\n",
    "-- set\n",
    "\n"
   ]
  }
 ],
 "metadata": {
  "language_info": {
   "name": "python"
  }
 },
 "nbformat": 4,
 "nbformat_minor": 5
}
