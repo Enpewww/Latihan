{
 "cells": [
  {
   "cell_type": "markdown",
   "id": "2a179eb2",
   "metadata": {},
   "source": [
    "# My Notebook\n",
    "\n",
    "## Introduction\n",
    "- Name : Luthfi Nadyan Putra"
   ]
  },
  {
   "cell_type": "code",
   "execution_count": 1,
   "id": "3927e7c2",
   "metadata": {},
   "outputs": [
    {
     "name": "stdout",
     "output_type": "stream",
     "text": [
      "This code will be executed.\n"
     ]
    }
   ],
   "source": [
    "print(\"This code will be executed.\")"
   ]
  },
  {
   "cell_type": "code",
   "execution_count": null,
   "id": "06200e76",
   "metadata": {},
   "outputs": [],
   "source": []
  }
 ],
 "metadata": {
  "kernelspec": {
   "display_name": "Baru2",
   "language": "python",
   "name": "python3"
  },
  "language_info": {
   "codemirror_mode": {
    "name": "ipython",
    "version": 3
   },
   "file_extension": ".py",
   "mimetype": "text/x-python",
   "name": "python",
   "nbconvert_exporter": "python",
   "pygments_lexer": "ipython3",
   "version": "3.13.2"
  }
 },
 "nbformat": 4,
 "nbformat_minor": 5
}
